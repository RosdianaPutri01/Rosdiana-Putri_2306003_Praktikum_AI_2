{
  "nbformat": 4,
  "nbformat_minor": 0,
  "metadata": {
    "colab": {
      "provenance": [],
      "authorship_tag": "ABX9TyPtEsDNbTSmgrz66I7Y9OWC",
      "include_colab_link": true
    },
    "kernelspec": {
      "name": "python3",
      "display_name": "Python 3"
    },
    "language_info": {
      "name": "python"
    }
  },
  "cells": [
    {
      "cell_type": "markdown",
      "metadata": {
        "id": "view-in-github",
        "colab_type": "text"
      },
      "source": [
        "<a href=\"https://colab.research.google.com/github/RosdianaPutri01/Rosdiana-Putri_2306003_Praktikum_AI_2/blob/main/Praktikum_AI_Search_Algorithm/DFS.ipynb\" target=\"_parent\"><img src=\"https://colab.research.google.com/assets/colab-badge.svg\" alt=\"Open In Colab\"/></a>"
      ]
    },
    {
      "cell_type": "code",
      "execution_count": null,
      "metadata": {
        "id": "alA_5H2xJhU8"
      },
      "outputs": [],
      "source": [
        "class Graph:\n",
        "    def __init__(self):\n",
        "        self.graph = {}\n",
        "\n",
        "    def addEdge(self, u, v):\n",
        "        if u not in self.graph:\n",
        "            self.graph[u] = []\n",
        "        if v not in self.graph:\n",
        "            self.graph[v] = []\n",
        "        self.graph[u].append(v)\n",
        "\n",
        "    def DFS(self, start):\n",
        "        visited = set()  # Untuk melacak node yang sudah dikunjungi\n",
        "\n",
        "        def dfs_util(node):\n",
        "            print(node, end=\" \")  # Menampilkan node yang sedang dikunjungi\n",
        "            visited.add(node)  # Tandai node sebagai sudah dikunjungi\n",
        "\n",
        "            for neighbor in self.graph.get(node, []):\n",
        "                if neighbor not in visited:\n",
        "                    dfs_util(neighbor)\n",
        "\n",
        "        dfs_util(start)\n",
        "\n",
        "# Membuat objek graf dan menambahkan sisi\n",
        "g = Graph()\n",
        "g.addEdge(0, 1)\n",
        "g.addEdge(0, 2)\n",
        "g.addEdge(1, 2)\n",
        "g.addEdge(2, 0)\n",
        "g.addEdge(2, 3)\n",
        "g.addEdge(3, 3)\n",
        "\n",
        "# Menampilkan penelusuran DFS dimulai dari node 2\n",
        "print(\"Berikut adalah penelusuran Depth First (dimulai dari node 2):\")\n",
        "g.DFS(2)"
      ]
    }
  ]
}